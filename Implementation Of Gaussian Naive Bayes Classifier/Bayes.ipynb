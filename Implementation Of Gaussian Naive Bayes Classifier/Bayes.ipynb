{
  "nbformat": 4,
  "nbformat_minor": 0,
  "metadata": {
    "colab": {
      "name": "Bayes.ipynb",
      "provenance": [],
      "collapsed_sections": []
    },
    "kernelspec": {
      "name": "python3",
      "display_name": "Python 3"
    },
    "language_info": {
      "name": "python"
    }
  },
  "cells": [
    {
      "cell_type": "code",
      "execution_count": 362,
      "metadata": {
        "id": "BCAKEtcK923h"
      },
      "outputs": [],
      "source": [
        "from sklearn.model_selection import train_test_split\n",
        "import pandas\n",
        "import numpy\n",
        "import math"
      ]
    },
    {
      "cell_type": "code",
      "source": [
        "data = pandas.read_csv(\"data.csv\") ## Loading our dataset \n",
        "mobilesTrain, mobilesTest = train_test_split(data, test_size=0.2) ## Split it into 2 parts(train/test)\n",
        "mobilesTrain.columns ## Columns of our dataset "
      ],
      "metadata": {
        "colab": {
          "base_uri": "https://localhost:8080/"
        },
        "id": "pjNH_zWc6qe6",
        "outputId": "a05f944a-df53-4062-d8bc-0401d0950313"
      },
      "execution_count": 363,
      "outputs": [
        {
          "output_type": "execute_result",
          "data": {
            "text/plain": [
              "Index(['battery_power', 'blue', 'clock_speed', 'dual_sim', 'fc', 'four_g',\n",
              "       'int_memory', 'm_dep', 'mobile_wt', 'n_cores', 'pc', 'px_height',\n",
              "       'px_width', 'ram', 'sc_h', 'sc_w', 'talk_time', 'three_g',\n",
              "       'touch_screen', 'wifi', 'price_range'],\n",
              "      dtype='object')"
            ]
          },
          "metadata": {},
          "execution_count": 363
        }
      ]
    },
    {
      "cell_type": "code",
      "source": [
        "### Prices and Their Counts\n",
        "mobilesTrain['price_range'].value_counts()"
      ],
      "metadata": {
        "colab": {
          "base_uri": "https://localhost:8080/"
        },
        "id": "GRG7pB4j-hTV",
        "outputId": "88e1eef2-0af0-4df2-d6aa-987689c0e9b0"
      },
      "execution_count": 364,
      "outputs": [
        {
          "output_type": "execute_result",
          "data": {
            "text/plain": [
              "1    407\n",
              "0    406\n",
              "2    400\n",
              "3    387\n",
              "Name: price_range, dtype: int64"
            ]
          },
          "metadata": {},
          "execution_count": 364
        }
      ]
    },
    {
      "cell_type": "code",
      "source": [
        "### Prior Probabilities\n",
        "Probabilities = []\n",
        "mobilesTrainRows = mobilesTrain.shape[0]\n",
        "for x in range(4):\n",
        "  Probabilities.append(mobilesTrain['price_range'].value_counts().get(x)/mobilesTrainRows)\n",
        "Probabilities = numpy.array(Probabilities).reshape(4,1,1)\n",
        "Probabilities"
      ],
      "metadata": {
        "colab": {
          "base_uri": "https://localhost:8080/"
        },
        "id": "GoqZIPzBtKAS",
        "outputId": "e8569374-1cc8-4b24-e9ad-3e4057954b5f"
      },
      "execution_count": 365,
      "outputs": [
        {
          "output_type": "execute_result",
          "data": {
            "text/plain": [
              "array([[[0.25375 ]],\n",
              "\n",
              "       [[0.254375]],\n",
              "\n",
              "       [[0.25    ]],\n",
              "\n",
              "       [[0.241875]]])"
            ]
          },
          "metadata": {},
          "execution_count": 365
        }
      ]
    },
    {
      "cell_type": "code",
      "source": [
        "price_range = [0,1,2,3]\n",
        "trainValues = []\n",
        "for x in range(len(price_range)):\n",
        "  trainValues.append((mobilesTrain.loc[mobilesTrain['price_range'] == price_range[x]]).iloc[:,0:20].to_numpy())"
      ],
      "metadata": {
        "id": "JQFrDLct-LLm"
      },
      "execution_count": 366,
      "outputs": []
    },
    {
      "cell_type": "code",
      "source": [
        "### Calculating Means\n",
        "means = []\n",
        "for x in range(len(price_range)):\n",
        "  mobile = trainValues[x]\n",
        "  mean = mobile.mean(axis=0)\n",
        "  means.append(mean)\n",
        "means = numpy.array(means)\n",
        "means = means.reshape(4,1,20)"
      ],
      "metadata": {
        "id": "HtjQkh7q_OSQ"
      },
      "execution_count": 367,
      "outputs": []
    },
    {
      "cell_type": "code",
      "source": [
        "### Calculating Variances\n",
        "variances = []\n",
        "for x in range(len(price_range)):\n",
        "  mobile = trainValues[x]\n",
        "  variance = mobile.var(axis = 0)\n",
        "  variances.append(variance)\n",
        "variances = numpy.array(variances) \n",
        "variances = variances.reshape(4,1,20) "
      ],
      "metadata": {
        "id": "GeexoCDwAzzv"
      },
      "execution_count": 368,
      "outputs": []
    },
    {
      "cell_type": "code",
      "source": [
        "mobilesTest.shape[0]"
      ],
      "metadata": {
        "colab": {
          "base_uri": "https://localhost:8080/"
        },
        "id": "DfB83y6Y-MPu",
        "outputId": "3c490f2b-1407-4eba-ab23-09930dc36edf"
      },
      "execution_count": 369,
      "outputs": [
        {
          "output_type": "execute_result",
          "data": {
            "text/plain": [
              "400"
            ]
          },
          "metadata": {},
          "execution_count": 369
        }
      ]
    },
    {
      "cell_type": "code",
      "source": [
        "### Pre-Processing Test Dataset\n",
        "testValues = mobilesTest.iloc[:,0:20].to_numpy().reshape(400,20)\n",
        "yTest = mobilesTest.iloc[:,20]"
      ],
      "metadata": {
        "id": "lLy4h-ZlW-EE"
      },
      "execution_count": 370,
      "outputs": []
    },
    {
      "cell_type": "code",
      "source": [
        "### Implementation Of Gaussian Naive Bayes Classifier\n",
        "predictions = (1/(numpy.sqrt(2*math.pi*variances)))*numpy.exp((1/(2*variances))*(-numpy.square(testValues - means)))\n",
        "predictions = Probabilities*numpy.prod(predictions,axis=2).reshape(4,400,1)\n",
        "predictions = numpy.argmax(predictions,axis=0)"
      ],
      "metadata": {
        "id": "s1Z2l2dou-TW"
      },
      "execution_count": 371,
      "outputs": []
    },
    {
      "cell_type": "code",
      "source": [
        "### Accuracy ###\n",
        "yTest = yTest.to_numpy().reshape(400,1)\n",
        "numpy.sum(predictions == yTest) / 400"
      ],
      "metadata": {
        "colab": {
          "base_uri": "https://localhost:8080/"
        },
        "id": "SM8QPYMN1ISd",
        "outputId": "fe6a79f9-e7f7-447b-fa2e-39cdaac5ef09"
      },
      "execution_count": 372,
      "outputs": [
        {
          "output_type": "execute_result",
          "data": {
            "text/plain": [
              "0.845"
            ]
          },
          "metadata": {},
          "execution_count": 372
        }
      ]
    }
  ]
}