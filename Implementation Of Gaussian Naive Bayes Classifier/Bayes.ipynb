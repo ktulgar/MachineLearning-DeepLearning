{
  "nbformat": 4,
  "nbformat_minor": 0,
  "metadata": {
    "colab": {
      "name": "Bayes.ipynb",
      "provenance": [],
      "collapsed_sections": []
    },
    "kernelspec": {
      "name": "python3",
      "display_name": "Python 3"
    },
    "language_info": {
      "name": "python"
    }
  },
  "cells": [
    {
      "cell_type": "code",
      "execution_count": 307,
      "metadata": {
        "id": "BCAKEtcK923h"
      },
      "outputs": [],
      "source": [
        "from sklearn.model_selection import train_test_split\n",
        "import pandas\n",
        "import numpy\n",
        "import math"
      ]
    },
    {
      "cell_type": "code",
      "source": [
        "data = pandas.read_csv(\"data.csv\") ## Loading our dataset \n",
        "mobilesTrain, mobilesTest = train_test_split(data, test_size=0.2) ## Split it into 2 parts(train/test)\n",
        "mobilesTrain.columns ## Columns of our dataset "
      ],
      "metadata": {
        "colab": {
          "base_uri": "https://localhost:8080/"
        },
        "id": "pjNH_zWc6qe6",
        "outputId": "d6f4ba7d-8366-478f-d0ed-2a75120167b1"
      },
      "execution_count": 338,
      "outputs": [
        {
          "output_type": "execute_result",
          "data": {
            "text/plain": [
              "Index(['battery_power', 'blue', 'clock_speed', 'dual_sim', 'fc', 'four_g',\n",
              "       'int_memory', 'm_dep', 'mobile_wt', 'n_cores', 'pc', 'px_height',\n",
              "       'px_width', 'ram', 'sc_h', 'sc_w', 'talk_time', 'three_g',\n",
              "       'touch_screen', 'wifi', 'price_range'],\n",
              "      dtype='object')"
            ]
          },
          "metadata": {},
          "execution_count": 338
        }
      ]
    },
    {
      "cell_type": "code",
      "source": [
        "### Prices and Their Counts\n",
        "mobilesTrain['price_range'].value_counts()"
      ],
      "metadata": {
        "colab": {
          "base_uri": "https://localhost:8080/"
        },
        "id": "GRG7pB4j-hTV",
        "outputId": "d2108152-fdd1-4272-c398-4befd3670fc6"
      },
      "execution_count": 339,
      "outputs": [
        {
          "output_type": "execute_result",
          "data": {
            "text/plain": [
              "3    410\n",
              "0    403\n",
              "1    398\n",
              "2    389\n",
              "Name: price_range, dtype: int64"
            ]
          },
          "metadata": {},
          "execution_count": 339
        }
      ]
    },
    {
      "cell_type": "code",
      "source": [
        "### Prior Probabilities\n",
        "Probabilities = []\n",
        "mobilesTrainRows = mobilesTrain.shape[0]\n",
        "for x in range(4):\n",
        "  Probabilities.append(mobilesTrain['price_range'].value_counts().get(x)/mobilesTrainRows)\n",
        "Probabilities = numpy.array(Probabilities).reshape(4,1,1)\n",
        "Probabilities"
      ],
      "metadata": {
        "colab": {
          "base_uri": "https://localhost:8080/"
        },
        "id": "GoqZIPzBtKAS",
        "outputId": "2031d797-8772-42a1-9f9e-d62e35d32e84"
      },
      "execution_count": 340,
      "outputs": [
        {
          "output_type": "execute_result",
          "data": {
            "text/plain": [
              "array([[[0.251875]],\n",
              "\n",
              "       [[0.24875 ]],\n",
              "\n",
              "       [[0.243125]],\n",
              "\n",
              "       [[0.25625 ]]])"
            ]
          },
          "metadata": {},
          "execution_count": 340
        }
      ]
    },
    {
      "cell_type": "code",
      "source": [
        "price_range = [0,1,2,3]\n",
        "trainValues = []\n",
        "for x in range(len(price_range)):\n",
        "  trainValues.append((mobilesTrain.loc[mobilesTrain['price_range'] == price_range[x]]).iloc[:,0:20].to_numpy())"
      ],
      "metadata": {
        "id": "JQFrDLct-LLm"
      },
      "execution_count": 341,
      "outputs": []
    },
    {
      "cell_type": "code",
      "source": [
        "### Calculating Means\n",
        "means = []\n",
        "for x in range(len(price_range)):\n",
        "  mobile = trainValues[x]\n",
        "  mean = mobile.mean(axis=0)\n",
        "  means.append(mean)\n",
        "means = numpy.array(means)\n",
        "means = means.reshape(4,1,20)"
      ],
      "metadata": {
        "id": "HtjQkh7q_OSQ"
      },
      "execution_count": 342,
      "outputs": []
    },
    {
      "cell_type": "code",
      "source": [
        "### Calculating Variances\n",
        "variances = []\n",
        "for x in range(len(price_range)):\n",
        "  mobile = trainValues[x]\n",
        "  variance = mobile.var(axis = 0)\n",
        "  variances.append(variance)\n",
        "variances = numpy.array(variances) \n",
        "variances = variances.reshape(4,1,20) "
      ],
      "metadata": {
        "id": "GeexoCDwAzzv"
      },
      "execution_count": 343,
      "outputs": []
    },
    {
      "cell_type": "code",
      "source": [
        "mobilesTest.shape[0]"
      ],
      "metadata": {
        "colab": {
          "base_uri": "https://localhost:8080/"
        },
        "id": "DfB83y6Y-MPu",
        "outputId": "8e1fc02d-bd9a-49f7-8a04-b4a4b7391083"
      },
      "execution_count": 344,
      "outputs": [
        {
          "output_type": "execute_result",
          "data": {
            "text/plain": [
              "400"
            ]
          },
          "metadata": {},
          "execution_count": 344
        }
      ]
    },
    {
      "cell_type": "code",
      "source": [
        "### Pre-Processing Test Dataset\n",
        "testValues = mobilesTest.iloc[:,0:20].to_numpy().reshape(400,20)\n",
        "yTest = mobilesTest.iloc[:,20]"
      ],
      "metadata": {
        "id": "lLy4h-ZlW-EE"
      },
      "execution_count": 345,
      "outputs": []
    },
    {
      "cell_type": "code",
      "source": [
        "### Implementation Of Gaussian Naive Bayes Classifier\n",
        "predictions = (1/(numpy.sqrt(2*math.pi*variances)))*numpy.exp((1/(2*variances))*(-numpy.square(testValues - means)))\n",
        "predictions = Probabilities*numpy.prod(predictions,axis=2).reshape(4,400,1)\n",
        "predictions = numpy.argmax(predictions,axis=0)"
      ],
      "metadata": {
        "id": "s1Z2l2dou-TW"
      },
      "execution_count": 346,
      "outputs": []
    },
    {
      "cell_type": "code",
      "source": [
        "### Accuracy ###\n",
        "from sklearn.preprocessing import LabelEncoder\n",
        "label_encoder = LabelEncoder()\n",
        "yTest = label_encoder.fit_transform(yTest)\n",
        "yTest = yTest.reshape(400,1)\n",
        "numpy.sum(predictions == yTest) / 400"
      ],
      "metadata": {
        "colab": {
          "base_uri": "https://localhost:8080/"
        },
        "id": "SM8QPYMN1ISd",
        "outputId": "9201dcaf-91f8-4d6f-9087-1e61d31c5ffa"
      },
      "execution_count": 347,
      "outputs": [
        {
          "output_type": "execute_result",
          "data": {
            "text/plain": [
              "0.82"
            ]
          },
          "metadata": {},
          "execution_count": 347
        }
      ]
    }
  ]
}